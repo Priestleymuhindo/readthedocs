{
 "cells": [
  {
   "cell_type": "code",
   "execution_count": 1,
   "metadata": {},
   "outputs": [],
   "source": [
    "liste=[1,2,3,4]"
   ]
  },
  {
   "cell_type": "code",
   "execution_count": 2,
   "metadata": {},
   "outputs": [],
   "source": [
    "listecarre=[n**2 for n in liste ]"
   ]
  },
  {
   "cell_type": "code",
   "execution_count": 3,
   "metadata": {},
   "outputs": [
    {
     "data": {
      "text/plain": [
       "[1, 4, 9, 16]"
      ]
     },
     "execution_count": 3,
     "metadata": {},
     "output_type": "execute_result"
    }
   ],
   "source": [
    "listecarre"
   ]
  },
  {
   "cell_type": "markdown",
   "metadata": {},
   "source": [
    "# DICTIONNAIRE"
   ]
  },
  {
   "cell_type": "code",
   "execution_count": 4,
   "metadata": {},
   "outputs": [],
   "source": [
    "dico={1:\"a\",\n",
    "     26:\"z\",\n",
    "     4:\"d\"}"
   ]
  },
  {
   "cell_type": "code",
   "execution_count": 5,
   "metadata": {},
   "outputs": [
    {
     "data": {
      "text/plain": [
       "{1: 'a', 26: 'z', 4: 'd'}"
      ]
     },
     "execution_count": 5,
     "metadata": {},
     "output_type": "execute_result"
    }
   ],
   "source": [
    "dico"
   ]
  },
  {
   "cell_type": "markdown",
   "metadata": {},
   "source": [
    "### Ecrivons un dictionnaire servant de gérer les differentses notes des étudiants aux diufférents cours"
   ]
  },
  {
   "cell_type": "code",
   "execution_count": 6,
   "metadata": {},
   "outputs": [],
   "source": [
    "dico1={\"serge\":{\"Python\":10,\"Math\":5,\"Anglais\":10}}"
   ]
  },
  {
   "cell_type": "code",
   "execution_count": 7,
   "metadata": {},
   "outputs": [
    {
     "data": {
      "text/plain": [
       "{'Python': 10, 'Math': 5, 'Anglais': 10}"
      ]
     },
     "execution_count": 7,
     "metadata": {},
     "output_type": "execute_result"
    }
   ],
   "source": [
    "dico1[\"serge\"]"
   ]
  },
  {
   "cell_type": "markdown",
   "metadata": {},
   "source": [
    "### parcours des éléments dans un dictionnaire"
   ]
  },
  {
   "cell_type": "code",
   "execution_count": 8,
   "metadata": {},
   "outputs": [
    {
     "name": "stdout",
     "output_type": "stream",
     "text": [
      "1\n",
      "26\n",
      "4\n"
     ]
    }
   ],
   "source": [
    "for element in dico:\n",
    "    print(element)\n",
    "    "
   ]
  },
  {
   "cell_type": "markdown",
   "metadata": {},
   "source": [
    "### Afficher les clés "
   ]
  },
  {
   "cell_type": "code",
   "execution_count": 9,
   "metadata": {},
   "outputs": [],
   "source": [
    "cle=[]\n",
    "val=[]"
   ]
  },
  {
   "cell_type": "code",
   "execution_count": 10,
   "metadata": {},
   "outputs": [],
   "source": [
    "keys=[]\n",
    "values=[]\n",
    "for cle,val in dico.items():\n",
    "    keys.append(cle)\n",
    "    values.append(val)"
   ]
  },
  {
   "cell_type": "markdown",
   "metadata": {},
   "source": [
    "### calculer la moyenne pour toutes les clés d'un dictionnaire"
   ]
  },
  {
   "cell_type": "code",
   "execution_count": 11,
   "metadata": {},
   "outputs": [],
   "source": [
    "cote={\"Priestley\":{\"maths\":10,\"français\":9,\"Algo\":7},\n",
    "     \"Maurice\":{\"maths\":10,\"français\":8,\"Algo\":8},\n",
    "      \"Schadrack\":{\"maths\":9,\"français\":8,\"Algo\":8}\n",
    "     }"
   ]
  },
  {
   "cell_type": "code",
   "execution_count": 12,
   "metadata": {},
   "outputs": [
    {
     "name": "stdout",
     "output_type": "stream",
     "text": [
      "la moyenne de Priestley vaut\n",
      "8.67\n",
      "la moyenne de Maurice vaut\n",
      "8.67\n",
      "la moyenne de Schadrack vaut\n",
      "8.33\n"
     ]
    }
   ],
   "source": [
    "for i in cote.keys():\n",
    "    a=cote[i]\n",
    "    print(f\"la moyenne de {i} vaut\")\n",
    "    b=[]\n",
    "    for j in a.values():\n",
    "        b.append(j)\n",
    "    m=sum(b)/len(b)\n",
    "    print(f\"{m:.2f}\")\n",
    "    "
   ]
  },
  {
   "cell_type": "code",
   "execution_count": 13,
   "metadata": {},
   "outputs": [
    {
     "name": "stdout",
     "output_type": "stream",
     "text": [
      "*  9   \n",
      "*  8   \n",
      "*  7   \n",
      "*  6   \n",
      "*  5   \n",
      "*  4   \n",
      "*  3   \n",
      "*  2   \n",
      "*  1   \n",
      "*  0   \n"
     ]
    }
   ],
   "source": [
    "l=[i for i in range(10)]\n",
    "l.reverse()\n",
    "l\n",
    "for i in l:\n",
    "    print(f\"*{i:^6d}\")"
   ]
  },
  {
   "cell_type": "markdown",
   "metadata": {},
   "source": [
    "###  chaines des caractères"
   ]
  },
  {
   "cell_type": "code",
   "execution_count": 14,
   "metadata": {},
   "outputs": [],
   "source": [
    "chaine=\"bonjour\""
   ]
  },
  {
   "cell_type": "code",
   "execution_count": 15,
   "metadata": {},
   "outputs": [
    {
     "data": {
      "text/plain": [
       "'Bonjour'"
      ]
     },
     "execution_count": 15,
     "metadata": {},
     "output_type": "execute_result"
    }
   ],
   "source": [
    "chaine1=chaine.capitalize()\n",
    "chaine1"
   ]
  },
  {
   "cell_type": "code",
   "execution_count": 16,
   "metadata": {},
   "outputs": [
    {
     "data": {
      "text/plain": [
       "'BONJOUR'"
      ]
     },
     "execution_count": 16,
     "metadata": {},
     "output_type": "execute_result"
    }
   ],
   "source": [
    "chaine2=chaine.upper()\n",
    "chaine2"
   ]
  },
  {
   "cell_type": "code",
   "execution_count": 17,
   "metadata": {},
   "outputs": [
    {
     "data": {
      "text/plain": [
       "'bonjour'"
      ]
     },
     "execution_count": 17,
     "metadata": {},
     "output_type": "execute_result"
    }
   ],
   "source": [
    "chaine3=chaine.lower()\n",
    "chaine3"
   ]
  },
  {
   "cell_type": "markdown",
   "metadata": {},
   "source": [
    "### formattage des élements"
   ]
  },
  {
   "cell_type": "code",
   "execution_count": 18,
   "metadata": {},
   "outputs": [],
   "source": [
    "nom=\"Séraphin\"\n",
    "age=20"
   ]
  },
  {
   "cell_type": "code",
   "execution_count": 19,
   "metadata": {},
   "outputs": [
    {
     "name": "stdout",
     "output_type": "stream",
     "text": [
      "Nom : Séraphin Age: 20\n"
     ]
    }
   ],
   "source": [
    "print(\"Nom :\",nom,\"Age:\",age)"
   ]
  },
  {
   "cell_type": "code",
   "execution_count": 20,
   "metadata": {},
   "outputs": [
    {
     "name": "stdout",
     "output_type": "stream",
     "text": [
      "Nom :,Séraphin Age:20\n"
     ]
    }
   ],
   "source": [
    "print(\"Nom :,{} Age:{}\".format(nom,age))"
   ]
  },
  {
   "cell_type": "markdown",
   "metadata": {},
   "source": [
    "### fonction map et filter\n"
   ]
  },
  {
   "cell_type": "code",
   "execution_count": 21,
   "metadata": {},
   "outputs": [],
   "source": [
    "numbers = [1, 2, 3, 4, 5]"
   ]
  },
  {
   "cell_type": "code",
   "execution_count": 22,
   "metadata": {},
   "outputs": [
    {
     "data": {
      "text/plain": [
       "[2, 4, 6, 8, 10]"
      ]
     },
     "execution_count": 22,
     "metadata": {},
     "output_type": "execute_result"
    }
   ],
   "source": [
    "l=list(map(lambda x : x*2,numbers))\n",
    "l"
   ]
  },
  {
   "cell_type": "code",
   "execution_count": 23,
   "metadata": {},
   "outputs": [
    {
     "data": {
      "text/plain": [
       "[2, 4]"
      ]
     },
     "execution_count": 23,
     "metadata": {},
     "output_type": "execute_result"
    }
   ],
   "source": [
    "f=list(filter(lambda x: x<5 and x%2==0,numbers))\n",
    "f"
   ]
  },
  {
   "cell_type": "code",
   "execution_count": 24,
   "metadata": {
    "code_folding": [
     9,
     14,
     17
    ]
   },
   "outputs": [],
   "source": [
    "utilisateurs = {\"Ange\": {\"GIMS\": 3.5, \"DAMSO\": 2.0, \"NISKA\": 4.5, \"LEFA\": 5.0, \n",
    "                      \"DADJU\": 1.5, \"FALLY\": 2.5, \"INNOSB\": 2.0},\n",
    "         \n",
    "                 \"Billy\": {\"GIMS\": 2.0, \"DAMSO\": 3.5, \"KOFFI\": 4.0, \"LEFA\": 2.0, \"DADJU\": 3.5, \n",
    "                  \"INNOSB\": 3.0},\n",
    "         \n",
    "                 \"Chris\": {\"GIMS\": 5.0, \"DAMSO\": 1.0, \"KOFFI\": 1.0, \"NISKA\": 3.0, \"LEFA\": 5, \n",
    "                            \"DADJU\": 1.0},\n",
    "         \n",
    "                \"Danniel\": {\"GIMS\": 3.0, \"DAMSO\": 4.0, \"KOFFI\": 4.5, \"LEFA\": 3.0, \"DADJU\": 4.5, \n",
    "                            \"FALLY\": 4.0, \"INNOSB\": 2.0},\n",
    "         \n",
    "        \"Hope\": {\"DAMSO\": 4.0, \"KOFFI\": 1.0, \"NISKA\": 4.0, \"FALLY\": 4.0, \"INNOSB\": 1.0},\n",
    "         \n",
    "        \"John\": {\"DAMSO\": 4.5, \"KOFFI\": 4.0, \"NISKA\": 5.0, \"LEFA\": 5.0, \"DADJU\": 4.5,\n",
    "                 \"FALLY\": 4.0, \"INNOSB\": 4.0},\n",
    "\n",
    "        \"Samuel\": {\"GIMS\": 5.0, \"DAMSO\": 2.0, \"NISKA\": 3.0, \"LEFA\": 5.0, \"DADJU\": 4.0, \n",
    "                    \"FALLY\": 5.0},\n",
    "         \n",
    "        \"Viviane\": {\"GIMS\": 3.0, \"NISKA\": 5.0, \"LEFA\": 4.0, \"DADJU\": 2.5, \"FALLY\": 3.0}}"
   ]
  },
  {
   "cell_type": "code",
   "execution_count": 32,
   "metadata": {},
   "outputs": [],
   "source": [
    "users=utilisateurs.copy()"
   ]
  },
  {
   "cell_type": "code",
   "execution_count": 46,
   "metadata": {
    "code_folding": []
   },
   "outputs": [],
   "source": [
    "\n",
    "def manathan(x,y):\n",
    "    a1=list(x.keys())\n",
    "    x\n",
    "    y\n",
    "    a2=x.values()\n",
    "    b1=list(y.keys())\n",
    "    b2=y.values()\n",
    "    c=0\n",
    "    for i in a:\n",
    "        if a1[i]==b1[i]:\n",
    "            c=c+abs(a2[i]-b2[i])\n",
    "    return c"
   ]
  },
  {
   "cell_type": "code",
   "execution_count": 47,
   "metadata": {},
   "outputs": [
    {
     "ename": "TypeError",
     "evalue": "list indices must be integers or slices, not str",
     "output_type": "error",
     "traceback": [
      "\u001b[1;31m---------------------------------------------------------------------------\u001b[0m",
      "\u001b[1;31mTypeError\u001b[0m                                 Traceback (most recent call last)",
      "\u001b[1;32m<ipython-input-47-0b09a2e2d810>\u001b[0m in \u001b[0;36m<module>\u001b[1;34m\u001b[0m\n\u001b[1;32m----> 1\u001b[1;33m \u001b[0mmanathan\u001b[0m\u001b[1;33m(\u001b[0m\u001b[0mutilisateurs\u001b[0m\u001b[1;33m[\u001b[0m\u001b[1;34m'Ange'\u001b[0m\u001b[1;33m]\u001b[0m\u001b[1;33m,\u001b[0m\u001b[0musers\u001b[0m\u001b[1;33m[\u001b[0m\u001b[1;34m'Billy'\u001b[0m\u001b[1;33m]\u001b[0m\u001b[1;33m)\u001b[0m\u001b[1;33m\u001b[0m\u001b[1;33m\u001b[0m\u001b[0m\n\u001b[0m",
      "\u001b[1;32m<ipython-input-46-d3f5a3e09111>\u001b[0m in \u001b[0;36mmanathan\u001b[1;34m(x, y)\u001b[0m\n\u001b[0;32m      8\u001b[0m     \u001b[0mc\u001b[0m\u001b[1;33m=\u001b[0m\u001b[1;36m0\u001b[0m\u001b[1;33m\u001b[0m\u001b[1;33m\u001b[0m\u001b[0m\n\u001b[0;32m      9\u001b[0m     \u001b[1;32mfor\u001b[0m \u001b[0mi\u001b[0m \u001b[1;32min\u001b[0m \u001b[0ma\u001b[0m\u001b[1;33m:\u001b[0m\u001b[1;33m\u001b[0m\u001b[1;33m\u001b[0m\u001b[0m\n\u001b[1;32m---> 10\u001b[1;33m         \u001b[1;32mif\u001b[0m \u001b[0ma1\u001b[0m\u001b[1;33m[\u001b[0m\u001b[0mi\u001b[0m\u001b[1;33m]\u001b[0m\u001b[1;33m==\u001b[0m\u001b[0mb1\u001b[0m\u001b[1;33m[\u001b[0m\u001b[0mi\u001b[0m\u001b[1;33m]\u001b[0m\u001b[1;33m:\u001b[0m\u001b[1;33m\u001b[0m\u001b[1;33m\u001b[0m\u001b[0m\n\u001b[0m\u001b[0;32m     11\u001b[0m             \u001b[0mc\u001b[0m\u001b[1;33m=\u001b[0m\u001b[0mc\u001b[0m\u001b[1;33m+\u001b[0m\u001b[0mabs\u001b[0m\u001b[1;33m(\u001b[0m\u001b[0ma2\u001b[0m\u001b[1;33m[\u001b[0m\u001b[0mi\u001b[0m\u001b[1;33m]\u001b[0m\u001b[1;33m-\u001b[0m\u001b[0mb2\u001b[0m\u001b[1;33m[\u001b[0m\u001b[0mi\u001b[0m\u001b[1;33m]\u001b[0m\u001b[1;33m)\u001b[0m\u001b[1;33m\u001b[0m\u001b[1;33m\u001b[0m\u001b[0m\n\u001b[0;32m     12\u001b[0m     \u001b[1;32mreturn\u001b[0m \u001b[0mc\u001b[0m\u001b[1;33m\u001b[0m\u001b[1;33m\u001b[0m\u001b[0m\n",
      "\u001b[1;31mTypeError\u001b[0m: list indices must be integers or slices, not str"
     ]
    }
   ],
   "source": [
    "manathan(utilisateurs['Ange'],users['Billy'])"
   ]
  }
 ],
 "metadata": {
  "kernelspec": {
   "display_name": "Python 3",
   "language": "python",
   "name": "python3"
  },
  "language_info": {
   "codemirror_mode": {
    "name": "ipython",
    "version": 3
   },
   "file_extension": ".py",
   "mimetype": "text/x-python",
   "name": "python",
   "nbconvert_exporter": "python",
   "pygments_lexer": "ipython3",
   "version": "3.8.3"
  },
  "toc": {
   "base_numbering": 1,
   "nav_menu": {},
   "number_sections": true,
   "sideBar": true,
   "skip_h1_title": false,
   "title_cell": "Table of Contents",
   "title_sidebar": "Contents",
   "toc_cell": false,
   "toc_position": {},
   "toc_section_display": true,
   "toc_window_display": false
  }
 },
 "nbformat": 4,
 "nbformat_minor": 4
}
